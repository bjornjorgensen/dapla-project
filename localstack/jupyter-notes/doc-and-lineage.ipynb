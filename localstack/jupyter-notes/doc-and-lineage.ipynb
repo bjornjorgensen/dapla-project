{
 "cells": [
  {
   "cell_type": "code",
   "execution_count": null,
   "metadata": {},
   "outputs": [],
   "source": [
    "from pyspark.sql.types import *\n",
    "ds = spark.createDataFrame([], StructType([\n",
    "    StructField('id',StringType()),\n",
    "    StructField('year', StringType())]))\n"
   ]
  },
  {
   "cell_type": "code",
   "execution_count": null,
   "metadata": {},
   "outputs": [],
   "source": [
    "ds.printSchema()"
   ]
  },
  {
   "cell_type": "code",
   "execution_count": null,
   "metadata": {},
   "outputs": [],
   "source": [
    "ds.printDocTemplate(True)"
   ]
  },
  {
   "cell_type": "code",
   "execution_count": null,
   "metadata": {},
   "outputs": [],
   "source": [
    "ds.doc = {\n",
    "  \"logical-record-root\" : {\n",
    "    \"name\" : \"dataset-name\",\n",
    "    \"instanceVariables\" : [ {\n",
    "      \"name\" : \"id\",\n",
    "      \"description\" : \"id\"\n",
    "    }, {\n",
    "      \"name\" : \"year\",\n",
    "      \"description\" : \"year\"\n",
    "    } ]\n",
    "  }\n",
    "}"
   ]
  },
  {
   "cell_type": "code",
   "execution_count": null,
   "metadata": {},
   "outputs": [],
   "source": [
    "ds.printLineageTemplate([\n",
    "    {\"/input/ds\": ds }, # we are cheating a bit her, only to test that we can make template\n",
    "])"
   ]
  },
  {
   "cell_type": "code",
   "execution_count": null,
   "metadata": {},
   "outputs": [],
   "source": [
    "ds.lineage = {\n",
    "  \"lineage\" : {\n",
    "    \"name\" : \"dataset-name\",\n",
    "    \"type\" : \"structure\",\n",
    "    \"fields\" : [ {\n",
    "      \"name\" : \"id\",\n",
    "      \"type\" : \"inherited\",\n",
    "      \"confidence\" : 0.9,\n",
    "      \"sources\" : [ {\n",
    "        \"field\" : \"id\",\n",
    "        \"path\" : \"/input/ds\",\n",
    "        \"version\" : 123\n",
    "      } ]\n",
    "    }, {\n",
    "      \"name\" : \"year\",\n",
    "      \"type\" : \"inherited\",\n",
    "      \"confidence\" : 0.9,\n",
    "      \"sources\" : [ {\n",
    "        \"field\" : \"year\",\n",
    "        \"path\" : \"/input/ds\",\n",
    "        \"version\" : 123\n",
    "      } ]\n",
    "    } ]\n",
    "  }\n",
    "}"
   ]
  },
  {
   "cell_type": "code",
   "execution_count": null,
   "metadata": {},
   "outputs": [],
   "source": [
    "ds.write\\\n",
    "    .option(\"valuation\", \"INTERNAL\")\\\n",
    "    .option(\"state\", \"INPUT\")\\\n",
    "    .path(\"/felles/test/doc-and-lineage\")"
   ]
  },
  {
   "cell_type": "code",
   "execution_count": null,
   "metadata": {},
   "outputs": [],
   "source": []
  }
 ],
 "metadata": {
  "kernelspec": {
   "display_name": "Pyspark (local)",
   "language": "python",
   "name": "pyspark_local"
  },
  "language_info": {
   "codemirror_mode": {
    "name": "ipython",
    "version": 3
   },
   "file_extension": ".py",
   "mimetype": "text/x-python",
   "name": "python",
   "nbconvert_exporter": "python",
   "pygments_lexer": "ipython3",
   "version": "3.7.6"
  }
 },
 "nbformat": 4,
 "nbformat_minor": 4
}
