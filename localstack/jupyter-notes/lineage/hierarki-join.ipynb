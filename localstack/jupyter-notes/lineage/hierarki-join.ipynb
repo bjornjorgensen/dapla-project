{
 "cells": [
  {
   "cell_type": "code",
   "execution_count": null,
   "metadata": {},
   "outputs": [
    {
     "name": "stdout",
     "output_type": "stream",
     "text": [
      "root\n",
      " |-- personidentifikator: string (nullable = true)\n",
      " |-- foedselsaar: string (nullable = true)\n",
      "\n",
      "root\n",
      " |-- skatt: struct (nullable = true)\n",
      " |    |-- personidentifikator: string (nullable = true)\n",
      " |    |-- konto: struct (nullable = true)\n",
      " |    |    |-- innskudd: integer (nullable = true)\n",
      "\n"
     ]
    }
   ],
   "source": [
    "from pyspark.sql.types import *\n",
    "import pyspark.sql.functions as sf\n",
    "\n",
    "fødsel = spark.createDataFrame([], StructType([\n",
    "    StructField('personidentifikator',StringType()),\n",
    "    StructField('foedselsaar', StringType())]))\n",
    "\n",
    "skatt = spark.createDataFrame([], StructType([\n",
    "    StructField('skatt', StructType([\n",
    "        StructField('personidentifikator',StringType()),\n",
    "        StructField('konto', StructType([\n",
    "            StructField('innskudd', IntegerType())]))\n",
    "        ]))\n",
    "    ])\n",
    ")\n",
    "\n",
    "fødsel.printSchema()\n",
    "skatt.printSchema()"
   ]
  },
  {
   "cell_type": "code",
   "execution_count": null,
   "metadata": {},
   "outputs": [
    {
     "name": "stdout",
     "output_type": "stream",
     "text": [
      "root\n",
      " |-- personidentifikator: string (nullable = true)\n",
      " |-- sum_innskudd: long (nullable = true)\n",
      "\n"
     ]
    }
   ],
   "source": [
    "innskudd_for_alder = skatt\\\n",
    "    .select(\"skatt.personidentifikator\", \"skatt.konto.innskudd\")\\\n",
    "    .groupBy(\"personidentifikator\")\\\n",
    "    .agg(sf.sum(\"innskudd\").alias(\"sum_innskudd\"))\n",
    "    \n",
    "innskudd_for_alder.printSchema()"
   ]
  },
  {
   "cell_type": "code",
   "execution_count": null,
   "metadata": {},
   "outputs": [
    {
     "name": "stdout",
     "output_type": "stream",
     "text": [
      "{\n",
      "  \"lineage\" : {\n",
      "    \"name\" : \"spark_schema\",\n",
      "    \"type\" : \"structure\",\n",
      "    \"fields\" : [ {\n",
      "      \"name\" : \"personidentifikator\",\n",
      "      \"type\" : \"inherited\",\n",
      "      \"confidence\" : 0.9,\n",
      "      \"sources\" : [ {\n",
      "        \"field\" : \"personidentifikator\",\n",
      "        \"path\" : \"/input/fødsel\",\n",
      "        \"version\" : 123\n",
      "      }, {\n",
      "        \"field\" : \"skatt.personidentifikator\",\n",
      "        \"path\" : \"/input/konto\",\n",
      "        \"version\" : 123\n",
      "      } ]\n",
      "    }, {\n",
      "      \"name\" : \"sum_innskudd\",\n",
      "      \"type\" : \"derived/created\",\n",
      "      \"confidence\" : 0.0\n",
      "    } ]\n",
      "  }\n",
      "}\n"
     ]
    }
   ],
   "source": [
    "innskudd_for_alder.printLineageTemplate([\n",
    "    {\"/input/fødsel\": fødsel },\n",
    "    {\"/input/konto\": konto }\n",
    "])"
   ]
  },
  {
   "cell_type": "code",
   "execution_count": null,
   "metadata": {},
   "outputs": [],
   "source": []
  }
 ],
 "metadata": {
  "kernelspec": {
   "display_name": "Pyspark (local)",
   "language": "python",
   "name": "pyspark_local"
  },
  "language_info": {
   "codemirror_mode": {
    "name": "ipython",
    "version": 3
   },
   "file_extension": ".py",
   "mimetype": "text/x-python",
   "name": "python",
   "nbconvert_exporter": "python",
   "pygments_lexer": "ipython3",
   "version": "3.7.6"
  }
 },
 "nbformat": 4,
 "nbformat_minor": 4
}
