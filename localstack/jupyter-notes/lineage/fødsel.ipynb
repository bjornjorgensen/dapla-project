{
 "cells": [
  {
   "cell_type": "code",
   "execution_count": null,
   "metadata": {},
   "outputs": [],
   "source": [
    "from pyspark.sql.types import *\n",
    "fødsel = spark.createDataFrame([], StructType([\n",
    "    StructField('personidentifikator',StringType()),\n",
    "    StructField('foedselsaar', StringType())]))\n",
    "\n",
    "konto = spark.createDataFrame([], StructType([\n",
    "    StructField('personidentifikator',StringType()),\n",
    "    StructField('sum_innskudd', IntegerType())]))"
   ]
  },
  {
   "cell_type": "code",
   "execution_count": null,
   "metadata": {},
   "outputs": [
    {
     "name": "stdout",
     "output_type": "stream",
     "text": [
      "root\n",
      " |-- personidentifikator: string (nullable = true)\n",
      " |-- foedselsaar: string (nullable = true)\n",
      "\n",
      "root\n",
      " |-- personidentifikator: string (nullable = true)\n",
      " |-- sum_innskudd: integer (nullable = true)\n",
      "\n"
     ]
    }
   ],
   "source": [
    "fødsel.printSchema()\n",
    "konto.printSchema()"
   ]
  },
  {
   "cell_type": "code",
   "execution_count": null,
   "metadata": {},
   "outputs": [],
   "source": [
    "innskudd_for_alder = fødsel.join(konto, \"personidentifikator\", how=\"inner\" )"
   ]
  },
  {
   "cell_type": "code",
   "execution_count": null,
   "metadata": {},
   "outputs": [
    {
     "name": "stdout",
     "output_type": "stream",
     "text": [
      "root\n",
      " |-- personidentifikator: string (nullable = true)\n",
      " |-- foedselsaar: string (nullable = true)\n",
      " |-- sum_innskudd: integer (nullable = true)\n",
      "\n"
     ]
    }
   ],
   "source": [
    "innskudd_for_alder.printSchema()"
   ]
  },
  {
   "cell_type": "code",
   "execution_count": null,
   "metadata": {},
   "outputs": [
    {
     "name": "stdout",
     "output_type": "stream",
     "text": [
      "{\n",
      "  \"lineage\" : {\n",
      "    \"name\" : \"spark_schema\",\n",
      "    \"type\" : \"structure\",\n",
      "    \"fields\" : [ {\n",
      "      \"name\" : \"personidentifikator\",\n",
      "      \"type\" : \"inherited\",\n",
      "      \"confidence\" : 0.9,\n",
      "      \"sources\" : [ {\n",
      "        \"field\" : \"personidentifikator\",\n",
      "        \"path\" : \"/input/fødsel\",\n",
      "        \"version\" : 123\n",
      "      }, {\n",
      "        \"field\" : \"personidentifikator\",\n",
      "        \"path\" : \"/input/konto\",\n",
      "        \"version\" : 123\n",
      "      } ]\n",
      "    }, {\n",
      "      \"name\" : \"foedselsaar\",\n",
      "      \"type\" : \"inherited\",\n",
      "      \"confidence\" : 0.9,\n",
      "      \"sources\" : [ {\n",
      "        \"field\" : \"foedselsaar\",\n",
      "        \"path\" : \"/input/fødsel\",\n",
      "        \"version\" : 123\n",
      "      } ]\n",
      "    }, {\n",
      "      \"name\" : \"sum_innskudd\",\n",
      "      \"type\" : \"inherited\",\n",
      "      \"confidence\" : 0.9,\n",
      "      \"sources\" : [ {\n",
      "        \"field\" : \"sum_innskudd\",\n",
      "        \"path\" : \"/input/konto\",\n",
      "        \"version\" : 123\n",
      "      } ]\n",
      "    } ]\n",
      "  }\n",
      "}\n"
     ]
    }
   ],
   "source": [
    "innskudd_for_alder.printLineageTemplate([\n",
    "    {\"/input/fødsel\": fødsel },\n",
    "    {\"/input/konto\": konto }\n",
    "])"
   ]
  },
  {
   "cell_type": "code",
   "execution_count": null,
   "metadata": {},
   "outputs": [],
   "source": []
  }
 ],
 "metadata": {
  "kernelspec": {
   "display_name": "Pyspark (local)",
   "language": "python",
   "name": "pyspark_local"
  },
  "language_info": {
   "codemirror_mode": {
    "name": "ipython",
    "version": 3
   },
   "file_extension": ".py",
   "mimetype": "text/x-python",
   "name": "python",
   "nbconvert_exporter": "python",
   "pygments_lexer": "ipython3",
   "version": "3.7.6"
  }
 },
 "nbformat": 4,
 "nbformat_minor": 4
}
