{
 "cells": [
  {
   "cell_type": "code",
   "execution_count": null,
   "metadata": {},
   "outputs": [],
   "source": [
    "skatt = spark.read.path(\"/skatt/person/rawdata-2019\")"
   ]
  },
  {
   "cell_type": "code",
   "execution_count": null,
   "metadata": {},
   "outputs": [],
   "source": [
    "import pyspark.sql.functions as sf\n",
    "from pyspark.sql.functions import explode\n",
    "konto = skatt.select(\"personidentifikator\", \"konto\")\\\n",
    "    .withColumnRenamed(\"konto\", \"kontoer\")\\\n",
    "    .withColumn(\"konto\", explode(\"kontoer\"))\\\n",
    "    .select(\"personidentifikator\", \"konto.kontonummer\", \"konto.innskudd\", \"konto.gjeld\")\\\n"
   ]
  },
  {
   "cell_type": "code",
   "execution_count": null,
   "metadata": {},
   "outputs": [
    {
     "name": "stdout",
     "output_type": "stream",
     "text": [
      "root\n",
      " |-- personidentifikator: string (nullable = true)\n",
      " |-- kontonummer: string (nullable = true)\n",
      " |-- innskudd: long (nullable = true)\n",
      " |-- gjeld: long (nullable = true)\n",
      "\n"
     ]
    }
   ],
   "source": [
    "konto.printSchema()"
   ]
  },
  {
   "cell_type": "code",
   "execution_count": null,
   "metadata": {},
   "outputs": [
    {
     "name": "stdout",
     "output_type": "stream",
     "text": [
      "{\n",
      "  \"logical-record-root\" : {\n",
      "    \"name\" : \"spark_schema\",\n",
      "    \"instanceVariables\" : [ {\n",
      "      \"name\" : \"personidentifikator\",\n",
      "      \"description\" : \"personidentifikator\"\n",
      "    }, {\n",
      "      \"name\" : \"kontonummer\",\n",
      "      \"description\" : \"kontonummer\"\n",
      "    }, {\n",
      "      \"name\" : \"innskudd\",\n",
      "      \"description\" : \"innskudd\"\n",
      "    }, {\n",
      "      \"name\" : \"gjeld\",\n",
      "      \"description\" : \"gjeld\"\n",
      "    } ]\n",
      "  }\n",
      "}\n"
     ]
    }
   ],
   "source": [
    "\n",
    "konto.printDocTemplate(True)"
   ]
  },
  {
   "cell_type": "code",
   "execution_count": null,
   "metadata": {},
   "outputs": [],
   "source": [
    "konto.doc = {\n",
    "  \"logical-record-root\" : {\n",
    "    \"name\" : \"konto-dataset\",\n",
    "    \"instanceVariables\" : [ {\n",
    "      \"name\" : \"personidentifikator\",\n",
    "      \"description\" : \"personidentifikator\"\n",
    "    }, {\n",
    "      \"name\" : \"kontonummer\",\n",
    "      \"description\" : \"kontonummer\"\n",
    "    }, {\n",
    "      \"name\" : \"innskudd\",\n",
    "      \"description\" : \"innskudd\"\n",
    "    }, {\n",
    "      \"name\" : \"gjeld\",\n",
    "      \"description\" : \"gjeld\"\n",
    "    } ]\n",
    "  }\n",
    "}"
   ]
  },
  {
   "cell_type": "code",
   "execution_count": null,
   "metadata": {},
   "outputs": [],
   "source": [
    "konto.write\\\n",
    "    .option(\"valuation\", \"INTERNAL\")\\\n",
    "    .option(\"state\", \"INPUT\")\\\n",
    "    .path(\"/felles/dataset_doc/skatt/konto\")"
   ]
  },
  {
   "cell_type": "code",
   "execution_count": null,
   "metadata": {},
   "outputs": [],
   "source": []
  }
 ],
 "metadata": {
  "kernelspec": {
   "display_name": "Pyspark (local)",
   "language": "python",
   "name": "pyspark-local"
  },
  "language_info": {
   "codemirror_mode": {
    "name": "ipython",
    "version": 3
   },
   "file_extension": ".py",
   "mimetype": "text/x-python",
   "name": "python",
   "nbconvert_exporter": "python",
   "pygments_lexer": "ipython3",
   "version": "3.6.9"
  }
 },
 "nbformat": 4,
 "nbformat_minor": 4
}