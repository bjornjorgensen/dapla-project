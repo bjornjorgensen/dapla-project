{
 "cells": [
  {
   "cell_type": "code",
   "execution_count": null,
   "metadata": {},
   "outputs": [],
   "source": [
    "%%time\n",
    "skatt = spark.read.path(\"/skatt/person/rawdata-2019\")"
   ]
  },
  {
   "cell_type": "code",
   "execution_count": null,
   "metadata": {},
   "outputs": [],
   "source": [
    "import pyspark.sql.functions as sf\n",
    "from pyspark.sql.functions import explode\n",
    "konto = skatt.select(\"personidentifikator\", \"konto\")\n"
   ]
  },
  {
   "cell_type": "code",
   "execution_count": null,
   "metadata": {},
   "outputs": [],
   "source": [
    "konto.printSchema()"
   ]
  },
  {
   "cell_type": "code",
   "execution_count": null,
   "metadata": {},
   "outputs": [],
   "source": [
    "konto.printDocTemplate(True)"
   ]
  },
  {
   "cell_type": "code",
   "execution_count": null,
   "metadata": {},
   "outputs": [],
   "source": [
    "konto.doc = {\n",
    "  \"logical-record-root\" : {\n",
    "    \"name\" : \"skatt_hierarki_konto\",\n",
    "    \"instanceVariables\" : [ {\n",
    "      \"name\" : \"personidentifikator\",\n",
    "      \"description\" : \"personidentifikator\"\n",
    "    } ],\n",
    "    \"logicalRecords\" : [ {\n",
    "      \"name\" : \"konto\",\n",
    "      \"instanceVariables\" : [ {\n",
    "        \"name\" : \"bankensNavn\",\n",
    "        \"description\" : \"bankensNavn\"\n",
    "      }, {\n",
    "        \"name\" : \"organisasjonsnummer\",\n",
    "        \"description\" : \"organisasjonsnummer\"\n",
    "      }, {\n",
    "        \"name\" : \"kontonummer\",\n",
    "        \"description\" : \"kontonummer\"\n",
    "      }, {\n",
    "        \"name\" : \"erBoligsparekontoIAnnenEOeSStat\",\n",
    "        \"description\" : \"erBoligsparekontoIAnnenEOeSStat\"\n",
    "      }, {\n",
    "        \"name\" : \"innskudd\",\n",
    "        \"description\" : \"innskudd\"\n",
    "      }, {\n",
    "        \"name\" : \"opptjenteRenter\",\n",
    "        \"description\" : \"opptjenteRenter\"\n",
    "      }, {\n",
    "        \"name\" : \"gjeld\",\n",
    "        \"description\" : \"gjeld\"\n",
    "      }, {\n",
    "        \"name\" : \"paaloepteRenter\",\n",
    "        \"description\" : \"paaloepteRenter\"\n",
    "      }, {\n",
    "        \"name\" : \"tilbakefoerteRenter\",\n",
    "        \"description\" : \"tilbakefoerteRenter\"\n",
    "      }, {\n",
    "        \"name\" : \"betalteMisligholdteRenter\",\n",
    "        \"description\" : \"betalteMisligholdteRenter\"\n",
    "      }, {\n",
    "        \"name\" : \"tapValutalaan\",\n",
    "        \"description\" : \"tapValutalaan\"\n",
    "      }, {\n",
    "        \"name\" : \"gevinstValutalaan\",\n",
    "        \"description\" : \"gevinstValutalaan\"\n",
    "      }, {\n",
    "        \"name\" : \"sparebeloepTilBoligsparingForUngdomOppspartISkattleggingsperioden\",\n",
    "        \"description\" : \"sparebeloepTilBoligsparingForUngdomOppspartISkattleggingsperioden\"\n",
    "      }, {\n",
    "        \"name\" : \"landkode\",\n",
    "        \"description\" : \"landkode\"\n",
    "      }, {\n",
    "        \"name\" : \"overfoertFraBarn\",\n",
    "        \"description\" : \"overfoertFraBarn\"\n",
    "      }, {\n",
    "        \"name\" : \"andelOverfoert\",\n",
    "        \"description\" : \"andelOverfoert\"\n",
    "      } ]\n",
    "    } ]\n",
    "  }\n",
    "}"
   ]
  },
  {
   "cell_type": "code",
   "execution_count": null,
   "metadata": {},
   "outputs": [],
   "source": [
    "konto.write\\\n",
    "    .option(\"valuation\", \"INTERNAL\")\\\n",
    "    .option(\"state\", \"INPUT\")\\\n",
    "    .path(\"/felles/dataset_doc/skatt/hierarki_konto\")"
   ]
  },
  {
   "cell_type": "code",
   "execution_count": null,
   "metadata": {},
   "outputs": [],
   "source": []
  }
 ],
 "metadata": {
  "kernelspec": {
   "display_name": "Pyspark (local)",
   "language": "python",
   "name": "pyspark-local"
  },
  "language_info": {
   "codemirror_mode": {
    "name": "ipython",
    "version": 3
   },
   "file_extension": ".py",
   "mimetype": "text/x-python",
   "name": "python",
   "nbconvert_exporter": "python",
   "pygments_lexer": "ipython3",
   "version": "3.6.9"
  }
 },
 "nbformat": 4,
 "nbformat_minor": 4
}