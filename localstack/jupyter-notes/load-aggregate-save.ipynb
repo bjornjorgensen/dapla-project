{
 "cells": [
  {
   "cell_type": "code",
   "execution_count": null,
   "metadata": {},
   "outputs": [],
   "source": [
    "skatt = spark.read.path(\"/skatt/person/rawdata-2019\")"
   ]
  },
  {
   "cell_type": "code",
   "execution_count": null,
   "metadata": {},
   "outputs": [],
   "source": [
    "import pyspark.sql.functions as sf\n",
    "from pyspark.sql.functions import explode\n",
    "konto = skatt.select(\"personidentifikator\", \"konto\")\\\n",
    "    .withColumnRenamed(\"konto\", \"kontoer\")\\\n",
    "    .withColumn(\"konto\", explode(\"kontoer\"))\\\n",
    "    .select(\"personidentifikator\", \"konto.*\")\\\n"
   ]
  },
  {
   "cell_type": "code",
   "execution_count": null,
   "metadata": {},
   "outputs": [
    {
     "name": "stdout",
     "output_type": "stream",
     "text": [
      "root\n",
      " |-- personidentifikator: string (nullable = true)\n",
      " |-- bankensNavn: string (nullable = true)\n",
      " |-- organisasjonsnummer: string (nullable = true)\n",
      " |-- kontonummer: string (nullable = true)\n",
      " |-- erBoligsparekontoIAnnenEOeSStat: boolean (nullable = true)\n",
      " |-- innskudd: long (nullable = true)\n",
      " |-- opptjenteRenter: long (nullable = true)\n",
      " |-- gjeld: long (nullable = true)\n",
      " |-- paaloepteRenter: long (nullable = true)\n",
      " |-- tilbakefoerteRenter: long (nullable = true)\n",
      " |-- betalteMisligholdteRenter: long (nullable = true)\n",
      " |-- tapValutalaan: long (nullable = true)\n",
      " |-- gevinstValutalaan: long (nullable = true)\n",
      " |-- sparebeloepTilBoligsparingForUngdomOppspartISkattleggingsperioden: long (nullable = true)\n",
      " |-- landkode: string (nullable = true)\n",
      " |-- overfoertFraBarn: boolean (nullable = true)\n",
      " |-- andelOverfoert: double (nullable = true)\n",
      "\n"
     ]
    }
   ],
   "source": [
    "konto.printSchema()"
   ]
  },
  {
   "cell_type": "code",
   "execution_count": null,
   "metadata": {},
   "outputs": [
    {
     "name": "stdout",
     "output_type": "stream",
     "text": [
      "CPU times: user 37.9 ms, sys: 19.5 ms, total: 57.4 ms\n",
      "Wall time: 6.47 s\n"
     ]
    }
   ],
   "source": [
    "%%time\n",
    "konto.write\\\n",
    "    .option(\"valuation\", \"INTERNAL\")\\\n",
    "    .option(\"state\", \"INPUT\")\\\n",
    "    .path(\"/felles/skatt/konto-flatt\")"
   ]
  },
  {
   "cell_type": "code",
   "execution_count": null,
   "metadata": {},
   "outputs": [],
   "source": [
    "konto_flatt = spark.read.path(\"/felles/skatt/konto-flatt\")"
   ]
  },
  {
   "cell_type": "code",
   "execution_count": null,
   "metadata": {},
   "outputs": [
    {
     "name": "stdout",
     "output_type": "stream",
     "text": [
      "+-----------------+\n",
      "|sum(sum_innskudd)|\n",
      "+-----------------+\n",
      "|          1025400|\n",
      "+-----------------+\n",
      "\n",
      "CPU times: user 6.94 ms, sys: 3.67 ms, total: 10.6 ms\n",
      "Wall time: 2.21 s\n"
     ]
    }
   ],
   "source": [
    "%%time\n",
    "import pyspark.sql.functions as sf\n",
    "konto_flatt.groupBy(\"personidentifikator\")\\\n",
    "    .agg(\\\n",
    "        sf.sum(\"innskudd\").alias(\"sum_innskudd\")\\\n",
    "    ).agg(sf.sum(\"sum_innskudd\")).show()\n"
   ]
  },
  {
   "cell_type": "code",
   "execution_count": null,
   "metadata": {},
   "outputs": [],
   "source": []
  }
 ],
 "metadata": {
  "kernelspec": {
   "display_name": "Pyspark (local)",
   "language": "python",
   "name": "pyspark_local"
  },
  "language_info": {
   "codemirror_mode": {
    "name": "ipython",
    "version": 3
   },
   "file_extension": ".py",
   "mimetype": "text/x-python",
   "name": "python",
   "nbconvert_exporter": "python",
   "pygments_lexer": "ipython3",
   "version": "3.7.6"
  }
 },
 "nbformat": 4,
 "nbformat_minor": 4
}